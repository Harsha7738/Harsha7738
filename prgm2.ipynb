{
  "cells": [
    {
      "cell_type": "markdown",
      "metadata": {
        "id": "view-in-github",
        "colab_type": "text"
      },
      "source": [
        "<a href=\"https://colab.research.google.com/github/Harsha7738/Harsha7738/blob/main/prgm2.ipynb\" target=\"_parent\"><img src=\"https://colab.research.google.com/assets/colab-badge.svg\" alt=\"Open In Colab\"/></a>"
      ]
    },
    {
      "cell_type": "code",
      "source": [
        "import pandas as pd\n",
        "import numpy as np\n",
        "\n",
        "# Load the data\n",
        "file_path = '/mnt/Lab Session Data.xlsx'\n",
        "df = pd.read_excel(file_path, sheet_name='Purchase data')\n",
        "\n",
        "# Clean the data\n",
        "df_cleaned = df[['Candies (#)', 'Mangoes (Kg)', 'Milk Packets (#)', 'Payment (Rs)']].dropna()\n",
        "\n",
        "# Extract features and target variable\n",
        "A = df_cleaned.iloc[:, :-1].values  # Product quantities\n",
        "C = df_cleaned.iloc[:, -1].values   # Payment\n",
        "\n",
        "# Ensure A and C are numeric numpy arrays\n",
        "A = A.astype(np.float64)\n",
        "C = C.astype(np.float64)\n",
        "\n",
        "# Compute the pseudo-inverse of A\n",
        "A_pseudo_inverse = np.linalg.pinv(A)\n",
        "\n",
        "# Calculate the model vector X (product costs)\n",
        "product_costs = np.dot(A_pseudo_inverse, C)\n",
        "\n",
        "# Display the product costs\n",
        "print(\"Product costs:\", product_costs)\n"
      ],
      "metadata": {
        "id": "QSHTEojUufhd",
        "outputId": "07cc3228-a7d3-411b-8e57-2d2c867f46a2",
        "colab": {
          "base_uri": "https://localhost:8080/"
        }
      },
      "execution_count": 6,
      "outputs": [
        {
          "output_type": "stream",
          "name": "stdout",
          "text": [
            "Product costs: [ 1. 55. 18.]\n"
          ]
        }
      ]
    }
  ],
  "metadata": {
    "colab": {
      "name": "Welcome To Colab",
      "provenance": [],
      "include_colab_link": true
    },
    "kernelspec": {
      "display_name": "Python 3",
      "name": "python3"
    }
  },
  "nbformat": 4,
  "nbformat_minor": 0
}
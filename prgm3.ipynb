{
  "cells": [
    {
      "cell_type": "markdown",
      "metadata": {
        "id": "view-in-github",
        "colab_type": "text"
      },
      "source": [
        "<a href=\"https://colab.research.google.com/github/Harsha7738/Harsha7738/blob/main/prgm3.ipynb\" target=\"_parent\"><img src=\"https://colab.research.google.com/assets/colab-badge.svg\" alt=\"Open In Colab\"/></a>"
      ]
    },
    {
      "cell_type": "code",
      "source": [
        "import pandas as pd\n",
        "import numpy as np\n",
        "from sklearn.model_selection import train_test_split\n",
        "from sklearn.preprocessing import LabelEncoder\n",
        "from sklearn.linear_model import LogisticRegression\n",
        "from sklearn.metrics import classification_report\n",
        "\n",
        "\n",
        "file_path = '/mnt/Lab Session Data.xlsx'\n",
        "df = pd.read_excel(file_path, sheet_name='Purchase data')\n",
        "\n",
        "\n",
        "df['Customer Type'] = np.where(df['Payment (Rs)'] > 200, 'RICH', 'POOR')\n",
        "\n",
        "\n",
        "X = df[['Candies (#)', 'Mangoes (Kg)', 'Milk Packets (#)']].fillna(0)\n",
        "y = df['Customer Type']\n",
        "\n",
        "\n",
        "le = LabelEncoder()\n",
        "y_encoded = le.fit_transform(y)\n",
        "\n",
        "\n",
        "X_train, X_test, y_train, y_test = train_test_split(X, y_encoded, test_size=0.3, random_state=42)\n",
        "\n",
        "\n",
        "model = LogisticRegression(max_iter=1000, class_weight='balanced')\n",
        "model.fit(X_train, y_train)\n",
        "\n",
        "\n",
        "y_pred = model.predict(X_test)\n",
        "\n",
        "\n",
        "print(\"Classification Report:\")\n",
        "print(classification_report(y_test, y_pred, target_names=le.classes_, zero_division=1))\n",
        "\n",
        "\n",
        "print(\"Class distribution in training set:\")\n",
        "print(pd.Series(y_train).value_counts())\n",
        "\n",
        "print(\"Class distribution in test set:\")\n",
        "print(pd.Series(y_test).value_counts())\n"
      ],
      "metadata": {
        "id": "jRGTW_3kvm8e",
        "outputId": "683da435-4724-49ce-e471-e08d716582e9",
        "colab": {
          "base_uri": "https://localhost:8080/"
        }
      },
      "execution_count": 7,
      "outputs": [
        {
          "output_type": "stream",
          "name": "stdout",
          "text": [
            "Classification Report:\n",
            "              precision    recall  f1-score   support\n",
            "\n",
            "        POOR       0.67      1.00      0.80         2\n",
            "        RICH       1.00      0.00      0.00         1\n",
            "\n",
            "    accuracy                           0.67         3\n",
            "   macro avg       0.83      0.50      0.40         3\n",
            "weighted avg       0.78      0.67      0.53         3\n",
            "\n",
            "Class distribution in training set:\n",
            "1    5\n",
            "0    2\n",
            "Name: count, dtype: int64\n",
            "Class distribution in test set:\n",
            "0    2\n",
            "1    1\n",
            "Name: count, dtype: int64\n"
          ]
        }
      ]
    }
  ],
  "metadata": {
    "colab": {
      "name": "Welcome To Colab",
      "provenance": [],
      "include_colab_link": true
    },
    "kernelspec": {
      "display_name": "Python 3",
      "name": "python3"
    }
  },
  "nbformat": 4,
  "nbformat_minor": 0
}
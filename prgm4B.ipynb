{
  "cells": [
    {
      "cell_type": "markdown",
      "metadata": {
        "id": "view-in-github",
        "colab_type": "text"
      },
      "source": [
        "<a href=\"https://colab.research.google.com/github/Harsha7738/Harsha7738/blob/main/prgm4B.ipynb\" target=\"_parent\"><img src=\"https://colab.research.google.com/assets/colab-badge.svg\" alt=\"Open In Colab\"/></a>"
      ]
    },
    {
      "cell_type": "code",
      "source": [
        "import pandas as pd\n",
        "import statistics\n",
        "\n",
        "# Create a sample DataFrame with 'Date' and 'Price' columns\n",
        "data = {\n",
        "    'Date': ['2024-08-07', '2024-08-08', '2024-08-14', '2024-08-21', '2024-08-28'],\n",
        "    'Price': [100, 102, 105, 110, 108]\n",
        "}\n",
        "df_stock = pd.DataFrame(data)\n",
        "\n",
        "# Convert 'Date' column to datetime\n",
        "df_stock['Date'] = pd.to_datetime(df_stock['Date'])\n",
        "\n",
        "# Filter price data for Wednesdays\n",
        "wednesdays = df_stock[df_stock['Date'].dt.day_name() == 'Wednesday']\n",
        "wednesday_prices = wednesdays['Price']\n",
        "\n",
        "# Calculate sample mean for Wednesdays\n",
        "mean_wednesday_price = statistics.mean(wednesday_prices)\n",
        "\n",
        "# Print the mean price on Wednesdays\n",
        "print(f\"Mean Price on Wednesdays: {mean_wednesday_price}\")\n"
      ],
      "metadata": {
        "id": "VzwRj_HZfoOo",
        "outputId": "563608ac-14c2-4237-c699-2487d82ce54a",
        "colab": {
          "base_uri": "https://localhost:8080/"
        }
      },
      "execution_count": 5,
      "outputs": [
        {
          "output_type": "stream",
          "name": "stdout",
          "text": [
            "Mean Price on Wednesdays: 105.75\n"
          ]
        }
      ]
    }
  ],
  "metadata": {
    "colab": {
      "name": "Welcome To Colab",
      "provenance": [],
      "include_colab_link": true
    },
    "kernelspec": {
      "display_name": "Python 3",
      "name": "python3"
    }
  },
  "nbformat": 4,
  "nbformat_minor": 0
}
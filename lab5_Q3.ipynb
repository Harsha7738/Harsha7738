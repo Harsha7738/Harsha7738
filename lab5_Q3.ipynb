{
  "cells": [
    {
      "cell_type": "markdown",
      "metadata": {
        "id": "view-in-github",
        "colab_type": "text"
      },
      "source": [
        "<a href=\"https://colab.research.google.com/github/Harsha7738/Harsha7738/blob/main/lab5_Q3.ipynb\" target=\"_parent\"><img src=\"https://colab.research.google.com/assets/colab-badge.svg\" alt=\"Open In Colab\"/></a>"
      ]
    },
    {
      "cell_type": "code",
      "source": [
        "import pandas as pd\n",
        "from sklearn.linear_model import LinearRegression\n",
        "from sklearn.model_selection import train_test_split\n",
        "\n",
        "# Load the dataset\n",
        "data = pd.read_csv('/mnt/DATASET.csv')  # Update path as needed\n",
        "\n",
        "# Split the data into features and target\n",
        "X = data[['0']]\n",
        "y = data['LABEL']\n",
        "\n",
        "# Split the data into training and testing sets\n",
        "X_train, X_test, y_train, y_test = train_test_split(X, y, test_size=0.2, random_state=42)\n",
        "\n",
        "# Train the linear regression model\n",
        "reg = LinearRegression().fit(X_train, y_train)\n",
        "\n",
        "# Predict on training data\n",
        "y_train_pred = reg.predict(X_train)\n",
        "\n",
        "# Predict on testing data\n",
        "y_test_pred = reg.predict(X_test)\n",
        "print('Linear regression model trained successfully. Predictions made on training and test data.')"
      ],
      "metadata": {
        "colab": {
          "base_uri": "https://localhost:8080/"
        },
        "id": "9Ry_Eg-_5GxD",
        "outputId": "1757585a-fb84-4302-eaf0-eac04da2cf48"
      },
      "execution_count": 3,
      "outputs": [
        {
          "output_type": "stream",
          "name": "stdout",
          "text": [
            "Linear regression model trained successfully. Predictions made on training and test data.\n"
          ]
        }
      ]
    },
    {
      "cell_type": "code",
      "source": [
        "from sklearn.metrics import mean_squared_error, r2_score, mean_absolute_percentage_error\n",
        "import numpy as np\n",
        "\n",
        "# Calculate metrics for training data\n",
        "mse_train = mean_squared_error(y_train, y_train_pred)\n",
        "rmse_train = np.sqrt(mse_train)\n",
        "mape_train = mean_absolute_percentage_error(y_train, y_train_pred)\n",
        "r2_train = r2_score(y_train, y_train_pred)\n",
        "\n",
        "# Calculate metrics for testing data\n",
        "mse_test = mean_squared_error(y_test, y_test_pred)\n",
        "rmse_test = np.sqrt(mse_test)\n",
        "mape_test = mean_absolute_percentage_error(y_test, y_test_pred)\n",
        "r2_test = r2_score(y_test, y_test_pred)\n",
        "\n",
        "# Print results\n",
        "print(f\"Training MSE: {mse_train}, RMSE: {rmse_train}, MAPE: {mape_train}, R2: {r2_train}\")\n",
        "print(f\"Testing MSE: {mse_test}, RMSE: {rmse_test}, MAPE: {mape_test}, R2: {r2_test}\")"
      ],
      "metadata": {
        "colab": {
          "base_uri": "https://localhost:8080/"
        },
        "id": "hsSbqtLvBbeS",
        "outputId": "79037b29-1e8c-4567-c303-2801eb123a15"
      },
      "execution_count": 4,
      "outputs": [
        {
          "output_type": "stream",
          "name": "stdout",
          "text": [
            "Training MSE: 879.7902956038835, RMSE: 29.661259170909847, MAPE: 0.005715337994276426, R2: 1.230034667121238e-06\n",
            "Testing MSE: 841.3115172009182, RMSE: 29.00537048894425, MAPE: 0.005747368399148773, R2: -0.0016475623755989321\n"
          ]
        }
      ]
    },
    {
      "cell_type": "code",
      "source": [
        "# Using all attributes for training\n",
        "X = data.drop(columns=['LABEL'])  # Remove the target column from features\n",
        "\n",
        "# Split the data\n",
        "X_train, X_test, y_train, y_test = train_test_split(X, y, test_size=0.2, random_state=42)\n",
        "\n",
        "# Train the model\n",
        "reg = LinearRegression().fit(X_train, y_train)\n",
        "\n",
        "# Predictions\n",
        "y_train_pred = reg.predict(X_train)\n",
        "y_test_pred = reg.predict(X_test)\n",
        "print('Linear regression model trained on multiple attributes. Predictions made on training and test data.')"
      ],
      "metadata": {
        "id": "HzgS_0ceCIyl",
        "outputId": "59fba4a7-e42a-4e0b-f0a6-32f10e8e9a12",
        "colab": {
          "base_uri": "https://localhost:8080/"
        }
      },
      "execution_count": 5,
      "outputs": [
        {
          "output_type": "stream",
          "name": "stdout",
          "text": [
            "Linear regression model trained on multiple attributes. Predictions made on training and test data.\n"
          ]
        }
      ]
    }
  ],
  "metadata": {
    "colab": {
      "name": "Welcome To Colab",
      "provenance": [],
      "include_colab_link": true
    },
    "kernelspec": {
      "display_name": "Python 3",
      "name": "python3"
    }
  },
  "nbformat": 4,
  "nbformat_minor": 0
}
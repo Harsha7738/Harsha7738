{
  "cells": [
    {
      "cell_type": "markdown",
      "metadata": {
        "id": "view-in-github",
        "colab_type": "text"
      },
      "source": [
        "<a href=\"https://colab.research.google.com/github/Harsha7738/Harsha7738/blob/main/lab5_Q6.ipynb\" target=\"_parent\"><img src=\"https://colab.research.google.com/assets/colab-badge.svg\" alt=\"Open In Colab\"/></a>"
      ]
    },
    {
      "cell_type": "code",
      "source": [
        "import pandas as pd\n",
        "from sklearn.linear_model import LinearRegression\n",
        "from sklearn.model_selection import train_test_split\n",
        "\n",
        "# Load the dataset\n",
        "data = pd.read_csv('/mnt/DATASET.csv')  # Update path as needed\n",
        "\n",
        "# Split the data into features and target\n",
        "X = data[['0']]\n",
        "y = data['LABEL']\n",
        "\n",
        "# Split the data into training and testing sets\n",
        "X_train, X_test, y_train, y_test = train_test_split(X, y, test_size=0.2, random_state=42)\n",
        "\n",
        "# Train the linear regression model\n",
        "reg = LinearRegression().fit(X_train, y_train)\n",
        "\n",
        "# Predict on training data\n",
        "y_train_pred = reg.predict(X_train)\n",
        "\n",
        "# Predict on testing data\n",
        "y_test_pred = reg.predict(X_test)\n",
        "print('Linear regression model trained successfully. Predictions made on training and test data.')"
      ],
      "metadata": {
        "colab": {
          "base_uri": "https://localhost:8080/"
        },
        "id": "9Ry_Eg-_5GxD",
        "outputId": "1757585a-fb84-4302-eaf0-eac04da2cf48"
      },
      "execution_count": 3,
      "outputs": [
        {
          "output_type": "stream",
          "name": "stdout",
          "text": [
            "Linear regression model trained successfully. Predictions made on training and test data.\n"
          ]
        }
      ]
    },
    {
      "cell_type": "code",
      "source": [
        "from sklearn.metrics import mean_squared_error, r2_score, mean_absolute_percentage_error\n",
        "import numpy as np\n",
        "\n",
        "# Calculate metrics for training data\n",
        "mse_train = mean_squared_error(y_train, y_train_pred)\n",
        "rmse_train = np.sqrt(mse_train)\n",
        "mape_train = mean_absolute_percentage_error(y_train, y_train_pred)\n",
        "r2_train = r2_score(y_train, y_train_pred)\n",
        "\n",
        "# Calculate metrics for testing data\n",
        "mse_test = mean_squared_error(y_test, y_test_pred)\n",
        "rmse_test = np.sqrt(mse_test)\n",
        "mape_test = mean_absolute_percentage_error(y_test, y_test_pred)\n",
        "r2_test = r2_score(y_test, y_test_pred)\n",
        "\n",
        "# Print results\n",
        "print(f\"Training MSE: {mse_train}, RMSE: {rmse_train}, MAPE: {mape_train}, R2: {r2_train}\")\n",
        "print(f\"Testing MSE: {mse_test}, RMSE: {rmse_test}, MAPE: {mape_test}, R2: {r2_test}\")"
      ],
      "metadata": {
        "colab": {
          "base_uri": "https://localhost:8080/"
        },
        "id": "hsSbqtLvBbeS",
        "outputId": "79037b29-1e8c-4567-c303-2801eb123a15"
      },
      "execution_count": 4,
      "outputs": [
        {
          "output_type": "stream",
          "name": "stdout",
          "text": [
            "Training MSE: 879.7902956038835, RMSE: 29.661259170909847, MAPE: 0.005715337994276426, R2: 1.230034667121238e-06\n",
            "Testing MSE: 841.3115172009182, RMSE: 29.00537048894425, MAPE: 0.005747368399148773, R2: -0.0016475623755989321\n"
          ]
        }
      ]
    },
    {
      "cell_type": "code",
      "source": [
        "# Using all attributes for training\n",
        "X = data.drop(columns=['LABEL'])  # Remove the target column from features\n",
        "\n",
        "# Split the data\n",
        "X_train, X_test, y_train, y_test = train_test_split(X, y, test_size=0.2, random_state=42)\n",
        "\n",
        "# Train the model\n",
        "reg = LinearRegression().fit(X_train, y_train)\n",
        "\n",
        "# Predictions\n",
        "y_train_pred = reg.predict(X_train)\n",
        "y_test_pred = reg.predict(X_test)\n",
        "print('Linear regression model trained on multiple attributes. Predictions made on training and test data.')"
      ],
      "metadata": {
        "colab": {
          "base_uri": "https://localhost:8080/"
        },
        "id": "HzgS_0ceCIyl",
        "outputId": "59fba4a7-e42a-4e0b-f0a6-32f10e8e9a12"
      },
      "execution_count": 5,
      "outputs": [
        {
          "output_type": "stream",
          "name": "stdout",
          "text": [
            "Linear regression model trained on multiple attributes. Predictions made on training and test data.\n"
          ]
        }
      ]
    },
    {
      "cell_type": "code",
      "source": [
        "from sklearn.cluster import KMeans\n",
        "import pandas as pd\n",
        "\n",
        "# Load your dataset (update the file path and column names accordingly)\n",
        "data = pd.read_csv('/mnt/DATASET.csv')  # Replace with the correct path if necessary\n",
        "\n",
        "# Remove the target variable ('LABEL' in your case) for clustering\n",
        "X = data.drop(columns=['LABEL'])  # Ensure 'LABEL' is the correct name of the target column\n",
        "\n",
        "# K-means clustering with corrected n_init value\n",
        "kmeans = KMeans(n_clusters=2, random_state=0, n_init=10).fit(X)  # n_init should be an integer\n",
        "\n",
        "# Cluster labels and centers\n",
        "labels = kmeans.labels_\n",
        "centers = kmeans.cluster_centers_\n",
        "\n",
        "# Print the results\n",
        "print(\"Cluster Labels:\", labels)\n",
        "print(\"Cluster Centers:\", centers)"
      ],
      "metadata": {
        "colab": {
          "base_uri": "https://localhost:8080/"
        },
        "id": "WRcJKe6OCZ8R",
        "outputId": "26a487a8-a2f5-42a3-c0c9-ac2a6f0e0305"
      },
      "execution_count": 7,
      "outputs": [
        {
          "output_type": "stream",
          "name": "stdout",
          "text": [
            "Cluster Labels: [1 0 0 ... 1 1 1]\n",
            "Cluster Centers: [[ 2.86160054e+04  3.15096743e+01  1.88905449e+01  1.20722320e+03\n",
            "   8.95772884e+00  1.21462791e+03 -7.65600173e+01 -1.73679527e+01\n",
            "  -3.18437467e+01 -4.53580736e+01 -7.31546026e+02 -1.49042680e+01\n",
            "  -1.51726820e+03 -1.66024599e+01 -7.49601087e+02  7.90370820e+01\n",
            "  -5.54413162e+00  7.41559852e+01  3.90339425e+01  1.16344388e+00\n",
            "   4.45404410e+01  1.64505835e+02  1.64026777e+01  8.17703027e+02\n",
            "   3.78203216e+01  8.35567938e+02  1.43936158e+01  1.82421897e+02\n",
            "  -4.69499737e+01  2.72377824e+01 -7.22780939e+01  1.83298184e+01\n",
            "   1.91029130e+00 -3.42729338e+01  2.51170810e+01 -2.26718452e+01\n",
            "   1.04116296e+02 -2.34007401e+00 -2.00719501e+02 -3.00842558e+01\n",
            "  -4.38734096e+02 -3.28918746e+01 -2.15918511e+02 -6.75920803e+00\n",
            "   1.07325518e+02  7.91504470e+00 -3.63548708e+01  3.49547020e+01\n",
            "  -7.20937601e+01 -1.64200242e+01 -3.26275504e+01 -6.81223497e+01\n",
            "   8.93886156e+00 -3.37280007e+01 -3.10968899e+00 -1.77657851e+02\n",
            "  -2.49170479e+00 -1.92003177e+02  5.11652590e+00  2.60776225e+01\n",
            "   1.74680207e+01  3.27426669e+01  5.44029477e+00 -1.92686972e+02\n",
            "  -5.13778590e+00 -1.93347073e+02  1.18566245e+01  3.13288072e+01\n",
            "   4.36145113e+00  9.31028954e+01  3.21175631e+01  9.21417089e+01\n",
            "   8.87629336e+01  4.13875413e+01  8.57828568e+01  1.50945512e+01\n",
            "   2.40642686e+01  1.57022256e+01  4.22897547e+01  9.53625800e+00\n",
            "   1.83977490e+02  1.89546357e+01  1.62010513e+02  1.25461966e+01\n",
            "   1.08665475e+02  1.11783028e+01  1.68299795e+02  1.70172746e+01\n",
            "   2.07869044e+02  7.59108529e+00  5.91860724e+01 -7.59272196e+00\n",
            "  -1.86939933e+01 -1.93682494e+01 -7.78604424e+01 -3.49478214e+01\n",
            "  -1.10156473e+02 -8.02643667e+01 -8.12794202e+01 -1.01071904e+02\n",
            "  -3.69979292e+01 -5.91020339e+01 -2.28989634e+01 -9.59299429e+00\n",
            "  -1.37363582e+01  1.63283149e+01  6.25961658e-01 -7.97619608e+01\n",
            "  -1.90129498e+01 -1.43575744e+02 -3.57367950e+01 -1.29295898e+02\n",
            "  -3.94287298e+01 -1.32485017e+02 -3.73520404e+01 -1.57483490e+02\n",
            "  -2.46487377e+01 -9.59393427e+01 -5.29697581e+00  1.91736926e+01\n",
            "  -7.70584988e+00  6.39569653e+00  7.28150726e+00  4.40390739e+01\n",
            "   1.98461286e+01  8.51272922e+01  4.73256351e+01  8.40328868e+01\n",
            "   7.53763545e+01  4.69074804e+01  6.09731960e+01  1.96625151e+01\n",
            "   1.98129065e+01  1.39682743e+01  2.57830355e-01  5.13098729e+00\n",
            "  -7.08646314e+01 -2.39563986e+00 -6.68265699e+01  5.78435340e+00\n",
            "   1.73513805e+01  3.08779857e+01  5.94548205e+01  5.00814089e+01\n",
            "   6.23385926e+01  5.26742888e+01  6.81533383e+01  3.75902467e+01\n",
            "   3.06079372e+01  1.16890019e+01 -6.61616775e+01 -2.67152070e+00\n",
            "  -8.14979338e+01  1.61502475e+01  1.20890181e+00  1.31344753e+01\n",
            "  -1.28592912e+01  3.40590284e+00 -4.13175034e+01 -6.94983670e+00\n",
            "  -5.26730077e+01 -2.58390484e+01 -3.19600655e+01 -3.03857628e+01\n",
            "  -5.67070465e+00 -1.11492596e+01  1.09139345e+00  2.47007633e+00\n",
            "  -1.90755542e+00  4.58904112e-01 -1.04428506e+00  1.11765471e+01\n",
            "   1.04000200e+01  5.56125456e+01  1.48260520e+01  6.00922863e+01\n",
            "  -5.37052154e+00  3.15111540e+01 -3.58200635e+01  9.03837600e+00\n",
            "  -5.22324685e+01  5.14294396e+00 -4.40902634e+01  2.48792462e+01\n",
            "  -1.81293431e+01  6.40093917e+01  4.37204991e+00  7.37401585e+01\n",
            "   5.27997067e+00  2.00295361e+01 -1.09670752e+01 -4.46117359e+00\n",
            "  -2.25471258e+01 -5.64357276e+00 -1.98145477e+01  4.74712706e+00]\n",
            " [ 3.54268907e+04  6.83374255e+01  8.75898929e+01  2.13904978e+03\n",
            "   7.85501451e+01  2.11437044e+03 -1.45074911e+02 -6.66220662e+01\n",
            "  -3.95900086e+01 -1.76665858e+02 -5.71632777e+02 -1.56338198e+02\n",
            "  -2.14327498e+03 -1.57142155e+02 -5.23706953e+02  1.03167053e+02\n",
            "  -3.40309858e+01  7.17630718e+01  1.21442165e+02 -5.66996953e+01\n",
            "   1.23038295e+02 -3.09857681e+02  9.17117259e+01  4.28958641e+02\n",
            "   2.94427167e+02  3.85019050e+02  8.58237396e+01 -3.46044775e+02\n",
            "  -1.72266936e+01  7.18706572e+01 -2.68394096e+01  9.71115285e+01\n",
            "   1.44501907e+02 -6.44304445e+01  7.87846983e+01 -3.34476491e+01\n",
            "   1.82259915e+02  2.41143026e+00  3.66567540e+02 -1.49150391e+02\n",
            "   1.18593166e+02 -1.43977460e+02  3.96967233e+02  1.60138851e+01\n",
            "   1.75654907e+02 -1.70509994e+01 -4.06583014e+01 -2.26876527e+01\n",
            "  -1.71134871e+02 -1.58109634e+02 -1.16687496e+02 -1.88246725e+02\n",
            "   4.93045337e+00 -4.04056941e+01 -9.49859626e+00  5.45060657e+01\n",
            "  -1.82034881e+01 -1.98684626e+02 -2.88983948e+01 -2.37441959e+02\n",
            "   2.55628576e+01 -2.41388339e+02 -6.04415298e+01 -1.88806954e+02\n",
            "  -4.87575824e+01  9.40488548e+01  7.04631575e+00 -4.02683598e+00\n",
            "   1.15736047e+01  8.38997989e+01  7.89701929e+01  1.55236550e+02\n",
            "   1.70939406e+02  5.65774851e+01  8.72343269e+01  3.12034745e+00\n",
            "   1.30032220e+01  2.27713764e+01 -8.22434239e+01 -1.14637821e+01\n",
            "  -1.30985310e+02  3.51030622e+01 -5.36904617e+00  7.18137573e+01\n",
            "   2.34159597e+01  9.08210382e+01 -1.79872767e+01  9.14118863e+01\n",
            "  -1.76695880e+02  9.12104562e+00 -1.29311405e+02 -6.18236531e+00\n",
            "   1.40311147e+01  1.59200172e+01  2.26613118e+01  2.80816784e+01\n",
            "  -4.52660859e+01 -4.18718857e+01 -4.03376120e+01 -5.51901006e+01\n",
            "   2.26720978e+01 -2.11449311e+01 -9.01075254e+00 -1.56310471e+01\n",
            "  -3.16378824e+01 -2.88529276e+01  2.06827689e+01  7.10793966e+01\n",
            "   4.29714866e+01  1.30795073e+02 -1.19158601e+01  1.12351705e+02\n",
            "  -5.72130558e+01  1.16453819e+02 -5.14924156e+01  1.46040104e+02\n",
            "  -6.99444815e-01  1.19084075e+02  1.44183731e+01 -1.04516903e+01\n",
            "   1.44021306e+01  8.60524838e-01 -6.72021631e+00 -4.07832697e+01\n",
            "  -6.67475263e+01 -6.03198982e+01 -7.84434131e+01 -4.38128316e+01\n",
            "  -3.49098613e+01 -6.10193049e+01 -6.39655877e+00 -3.45503192e+01\n",
            "   2.78111304e+01  2.95313156e+01  1.57348219e+01  2.34704256e+01\n",
            "   1.47657969e+00 -1.02077653e+01  2.62407688e+01 -4.68387796e+01\n",
            "  -4.17279726e+01 -7.31750666e+01 -9.70774626e+01 -3.17998134e+01\n",
            "  -9.59348650e+01 -2.01259982e+01 -8.08183945e+01 -4.82997560e+01\n",
            "  -5.27460037e+01 -5.08795750e+01 -2.09443798e+00 -1.48738906e+01\n",
            "   1.78781293e+01 -8.37301704e+00 -1.27629663e+01 -1.34397660e+01\n",
            "  -1.37836809e+00  2.99211322e+01  5.61322929e+01  9.00690461e+01\n",
            "   9.09775186e+01  9.21481280e+01  9.31948459e+01  4.30693822e+01\n",
            "   6.20772408e+01 -1.76191912e+01 -3.16483398e+00 -3.59680770e+01\n",
            "  -2.54707279e+01 -6.97961359e+00  1.06705366e+00  1.80155019e+00\n",
            "   7.52540075e+00 -4.59380754e+01  1.02291972e+01 -6.50938378e+01\n",
            "   4.89546140e+01 -7.08017011e+00  7.38727034e+01  9.79724277e+00\n",
            "   5.73694097e+01 -1.03808271e+01  7.37366753e+01 -2.79557301e+01\n",
            "   7.09152267e+01 -4.52600826e+01  2.97917044e+01 -5.82732035e+01\n",
            "  -2.58911993e-02 -3.98793659e+01 -1.41158222e-01  1.19180141e+01\n",
            "   8.85243625e+00  2.88396995e+01  8.11428303e+00  2.86445326e+00]]\n"
          ]
        }
      ]
    },
    {
      "cell_type": "code",
      "source": [
        "from sklearn.metrics import silhouette_score, calinski_harabasz_score, davies_bouldin_score\n",
        "\n",
        "# Calculating clustering metrics\n",
        "silhouette = silhouette_score(X, labels)\n",
        "ch_score = calinski_harabasz_score(X, labels)\n",
        "db_index = davies_bouldin_score(X, labels)\n",
        "\n",
        "print(f\"Silhouette Score: {silhouette}, CH Score: {ch_score}, DB Index: {db_index}\")"
      ],
      "metadata": {
        "colab": {
          "base_uri": "https://localhost:8080/"
        },
        "id": "8ATUwJT0C2Ng",
        "outputId": "d861a92a-30ef-4098-c20d-931ed43fc2c6"
      },
      "execution_count": 8,
      "outputs": [
        {
          "output_type": "stream",
          "name": "stdout",
          "text": [
            "Silhouette Score: 0.30904568893745726, CH Score: 1169.0812057024555, DB Index: 1.2024154400250275\n"
          ]
        }
      ]
    },
    {
      "cell_type": "code",
      "source": [
        "import matplotlib.pyplot as plt\n",
        "\n",
        "sil_scores = []\n",
        "ch_scores = []\n",
        "db_indexes = []\n",
        "\n",
        "# Evaluate scores for k = 2 to 10\n",
        "for k in range(2, 11):\n",
        "    kmeans = KMeans(n_clusters=k, random_state=42).fit(X)\n",
        "    labels = kmeans.labels_\n",
        "    sil_scores.append(silhouette_score(X, labels))\n",
        "    ch_scores.append(calinski_harabasz_score(X, labels))\n",
        "    db_indexes.append(davies_bouldin_score(X, labels))\n",
        "\n",
        "# Plotting\n",
        "plt.figure(figsize=(12, 6))\n",
        "plt.plot(range(2, 11), sil_scores, marker='o', label='Silhouette Score')\n",
        "plt.plot(range(2, 11), ch_scores, marker='x', label='Calinski-Harabasz Score')\n",
        "plt.plot(range(2, 11), db_indexes, marker='s', label='Davies-Bouldin Index')\n",
        "plt.xlabel('Number of clusters (k)')\n",
        "plt.ylabel('Score')\n",
        "plt.title('K-Means Clustering Evaluation Metrics')\n",
        "plt.legend()\n",
        "plt.show()"
      ],
      "metadata": {
        "id": "IEVXO5YfDA3W",
        "outputId": "dd03a9ab-efae-4f69-abf9-088c6b85c57c",
        "colab": {
          "base_uri": "https://localhost:8080/",
          "height": 890
        }
      },
      "execution_count": 9,
      "outputs": [
        {
          "output_type": "stream",
          "name": "stderr",
          "text": [
            "/usr/local/lib/python3.10/dist-packages/sklearn/cluster/_kmeans.py:1416: FutureWarning: The default value of `n_init` will change from 10 to 'auto' in 1.4. Set the value of `n_init` explicitly to suppress the warning\n",
            "  super()._check_params_vs_input(X, default_n_init=10)\n",
            "/usr/local/lib/python3.10/dist-packages/sklearn/cluster/_kmeans.py:1416: FutureWarning: The default value of `n_init` will change from 10 to 'auto' in 1.4. Set the value of `n_init` explicitly to suppress the warning\n",
            "  super()._check_params_vs_input(X, default_n_init=10)\n",
            "/usr/local/lib/python3.10/dist-packages/sklearn/cluster/_kmeans.py:1416: FutureWarning: The default value of `n_init` will change from 10 to 'auto' in 1.4. Set the value of `n_init` explicitly to suppress the warning\n",
            "  super()._check_params_vs_input(X, default_n_init=10)\n",
            "/usr/local/lib/python3.10/dist-packages/sklearn/cluster/_kmeans.py:1416: FutureWarning: The default value of `n_init` will change from 10 to 'auto' in 1.4. Set the value of `n_init` explicitly to suppress the warning\n",
            "  super()._check_params_vs_input(X, default_n_init=10)\n",
            "/usr/local/lib/python3.10/dist-packages/sklearn/cluster/_kmeans.py:1416: FutureWarning: The default value of `n_init` will change from 10 to 'auto' in 1.4. Set the value of `n_init` explicitly to suppress the warning\n",
            "  super()._check_params_vs_input(X, default_n_init=10)\n",
            "/usr/local/lib/python3.10/dist-packages/sklearn/cluster/_kmeans.py:1416: FutureWarning: The default value of `n_init` will change from 10 to 'auto' in 1.4. Set the value of `n_init` explicitly to suppress the warning\n",
            "  super()._check_params_vs_input(X, default_n_init=10)\n",
            "/usr/local/lib/python3.10/dist-packages/sklearn/cluster/_kmeans.py:1416: FutureWarning: The default value of `n_init` will change from 10 to 'auto' in 1.4. Set the value of `n_init` explicitly to suppress the warning\n",
            "  super()._check_params_vs_input(X, default_n_init=10)\n",
            "/usr/local/lib/python3.10/dist-packages/sklearn/cluster/_kmeans.py:1416: FutureWarning: The default value of `n_init` will change from 10 to 'auto' in 1.4. Set the value of `n_init` explicitly to suppress the warning\n",
            "  super()._check_params_vs_input(X, default_n_init=10)\n",
            "/usr/local/lib/python3.10/dist-packages/sklearn/cluster/_kmeans.py:1416: FutureWarning: The default value of `n_init` will change from 10 to 'auto' in 1.4. Set the value of `n_init` explicitly to suppress the warning\n",
            "  super()._check_params_vs_input(X, default_n_init=10)\n"
          ]
        },
        {
          "output_type": "display_data",
          "data": {
            "text/plain": [
              "<Figure size 1200x600 with 1 Axes>"
            ],
            "image/png": "[encoded data removed]"
          },
          "metadata": {}
        }
      ]
    }
  ],
  "metadata": {
    "colab": {
      "name": "Welcome To Colab",
      "provenance": [],
      "include_colab_link": true
    },
    "kernelspec": {
      "display_name": "Python 3",
      "name": "python3"
    }
  },
  "nbformat": 4,
  "nbformat_minor": 0
}
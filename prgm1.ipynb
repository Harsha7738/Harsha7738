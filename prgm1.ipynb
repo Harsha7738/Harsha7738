{
  "cells": [
    {
      "cell_type": "markdown",
      "metadata": {
        "id": "view-in-github",
        "colab_type": "text"
      },
      "source": [
        "<a href=\"https://colab.research.google.com/github/Harsha7738/Harsha7738/blob/main/prgm1.ipynb\" target=\"_parent\"><img src=\"https://colab.research.google.com/assets/colab-badge.svg\" alt=\"Open In Colab\"/></a>"
      ]
    },
    {
      "cell_type": "code",
      "source": [
        "import pandas as pd\n",
        "import numpy as np\n",
        "\n",
        "\n",
        "file_path = '/mnt/Lab Session Data.xlsx'\n",
        "df = pd.read_excel(file_path, sheet_name='Purchase data')\n",
        "\n",
        "\n",
        "print(\"Initial DataFrame:\")\n",
        "print(df.head())\n",
        "\n",
        "\n",
        "df_cleaned = df[['Candies (#)', 'Mangoes (Kg)', 'Milk Packets (#)', 'Payment (Rs)']].dropna()\n",
        "\n",
        "\n",
        "print(\"Cleaned DataFrame:\")\n",
        "print(df_cleaned.head())\n",
        "\n",
        "\n",
        "A = df_cleaned.iloc[:, :-1].values\n",
        "C = df_cleaned.iloc[:, -1].values\n",
        "\n",
        "\n",
        "A = A.astype(np.float64)\n",
        "C = C.astype(np.float64)\n",
        "\n",
        "\n",
        "dimensionality = A.shape[1]\n",
        "\n",
        "\n",
        "num_vectors = A.shape[0]\n",
        "\n",
        "\n",
        "rank_A = np.linalg.matrix_rank(A)\n",
        "\n",
        "\n",
        "A_pseudo_inverse = np.linalg.pinv(A)\n",
        "\n",
        "\n",
        "product_costs = np.dot(A_pseudo_inverse, C)\n",
        "\n",
        "\n",
        "print(f\"Dimensionality of the vector space: {dimensionality}\")\n",
        "print(f\"Number of vectors in the vector space: {num_vectors}\")\n",
        "print(f\"Rank of Matrix A: {rank_A}\")\n",
        "print(f\"Product costs: {product_costs}\")"
      ],
      "metadata": {
        "id": "-PiRZnXxrPLJ",
        "outputId": "975bef1a-4a3d-4515-d95c-d07632eb4e55",
        "colab": {
          "base_uri": "https://localhost:8080/"
        }
      },
      "execution_count": 5,
      "outputs": [
        {
          "output_type": "stream",
          "name": "stdout",
          "text": [
            "Initial DataFrame:\n",
            "  Customer  Candies (#)  Mangoes (Kg)  Milk Packets (#)  Payment (Rs)  \\\n",
            "0      C_1           20             6                 2           386   \n",
            "1      C_2           16             3                 6           289   \n",
            "2      C_3           27             6                 2           393   \n",
            "3      C_4           19             1                 2           110   \n",
            "4      C_5           24             4                 2           280   \n",
            "\n",
            "   Unnamed: 5  Unnamed: 6  Unnamed: 7  Unnamed: 8  Unnamed: 9  ...  \\\n",
            "0         NaN         NaN         NaN         NaN         NaN  ...   \n",
            "1         NaN         NaN         NaN         NaN         NaN  ...   \n",
            "2         NaN         NaN         NaN         NaN         NaN  ...   \n",
            "3         NaN         NaN         NaN         NaN         NaN  ...   \n",
            "4         NaN         NaN         NaN         NaN         NaN  ...   \n",
            "\n",
            "   Unnamed: 12  Unnamed: 13  Unnamed: 14  Unnamed: 15  Unnamed: 16  \\\n",
            "0          NaN          NaN          NaN          NaN          NaN   \n",
            "1          NaN          NaN          NaN          NaN          NaN   \n",
            "2          NaN          NaN          NaN          NaN          NaN   \n",
            "3          NaN          NaN          NaN          NaN          NaN   \n",
            "4          NaN          NaN          NaN          NaN          NaN   \n",
            "\n",
            "   Unnamed: 17  Unnamed: 18  Candy  Mango  Milk  \n",
            "0          NaN          NaN    1.0   55.0  18.0  \n",
            "1          NaN          NaN    NaN    NaN   NaN  \n",
            "2          NaN          NaN    NaN    NaN   NaN  \n",
            "3          NaN          NaN    NaN    NaN   NaN  \n",
            "4          NaN          NaN    NaN    NaN   NaN  \n",
            "\n",
            "[5 rows x 22 columns]\n",
            "Cleaned DataFrame:\n",
            "   Candies (#)  Mangoes (Kg)  Milk Packets (#)  Payment (Rs)\n",
            "0           20             6                 2           386\n",
            "1           16             3                 6           289\n",
            "2           27             6                 2           393\n",
            "3           19             1                 2           110\n",
            "4           24             4                 2           280\n",
            "Dimensionality of the vector space: 3\n",
            "Number of vectors in the vector space: 10\n",
            "Rank of Matrix A: 3\n",
            "Product costs: [ 1. 55. 18.]\n"
          ]
        }
      ]
    }
  ],
  "metadata": {
    "colab": {
      "name": "Welcome To Colab",
      "provenance": [],
      "include_colab_link": true
    },
    "kernelspec": {
      "display_name": "Python 3",
      "name": "python3"
    }
  },
  "nbformat": 4,
  "nbformat_minor": 0
}